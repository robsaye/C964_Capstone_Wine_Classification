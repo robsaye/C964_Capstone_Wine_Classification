{
 "cells": [
  {
   "cell_type": "code",
   "execution_count": 1,
   "id": "2d4acdf6",
   "metadata": {
    "scrolled": false
   },
   "outputs": [
    {
     "name": "stdout",
     "output_type": "stream",
     "text": [
      "Enabling notebook extension jupyter-js-widgets/extension...\n",
      "      - Validating: \u001b[32mOK\u001b[0m\n",
      "Enabling: voila\n",
      "- Writing config: /Users/robsaye/WGU_Classes/C964_Capstone/C964_Capstone_Wine_Classification/env/etc/jupyter\n",
      "    - Validating...\n",
      "      voila 0.4.0 \u001b[32mOK\u001b[0m\n"
     ]
    }
   ],
   "source": [
    "import warnings\n",
    "warnings.filterwarnings('ignore')\n",
    "# Standard ML imports\n",
    "import numpy as np\n",
    "import pandas as pd\n",
    "import matplotlib.pyplot as plt\n",
    "import seaborn as sns\n",
    "# Allows us to display the plots in the notebook\n",
    "%matplotlib inline \n",
    "\n",
    "import ipywidgets as widgets\n",
    "from IPython.display import display, clear_output, Markdown\n",
    "\n",
    "!jupyter nbextension enable --py widgetsnbextension --sys-prefix\n",
    "!jupyter serverextension enable voila --sys-prefix\n",
    "\n",
    "#!python -c \"import sys; print('\\n',sys.version); import ipympl; print('ipympl version:', ipympl.__version__)\" && jupyter --version && jupyter nbextension list && jupyter labextension list"
   ]
  },
  {
   "cell_type": "markdown",
   "id": "0c97159a",
   "metadata": {},
   "source": [
    "<hr style=\"border:2px solid blue\">"
   ]
  },
  {
   "cell_type": "markdown",
   "id": "046e0c41",
   "metadata": {},
   "source": [
    "## Below is where we import our data, normalize it, create our model, and create our prediction "
   ]
  },
  {
   "cell_type": "code",
   "execution_count": 2,
   "id": "0c7f6bca",
   "metadata": {},
   "outputs": [],
   "source": [
    "# Import our Red Wine CSV file with our red wine data\n",
    "red_wine = pd.read_csv(\"data/wine_quality_red.csv\")"
   ]
  },
  {
   "cell_type": "code",
   "execution_count": 3,
   "id": "2c5fa9c8",
   "metadata": {},
   "outputs": [
    {
     "data": {
      "text/html": [
       "<div>\n",
       "<style scoped>\n",
       "    .dataframe tbody tr th:only-of-type {\n",
       "        vertical-align: middle;\n",
       "    }\n",
       "\n",
       "    .dataframe tbody tr th {\n",
       "        vertical-align: top;\n",
       "    }\n",
       "\n",
       "    .dataframe thead th {\n",
       "        text-align: right;\n",
       "    }\n",
       "</style>\n",
       "<table border=\"1\" class=\"dataframe\">\n",
       "  <thead>\n",
       "    <tr style=\"text-align: right;\">\n",
       "      <th></th>\n",
       "      <th>fixed_acidity</th>\n",
       "      <th>volatile_acidity</th>\n",
       "      <th>citric_acid</th>\n",
       "      <th>residual_sugar</th>\n",
       "      <th>chlorides</th>\n",
       "      <th>free_sulfur_dioxide</th>\n",
       "      <th>total_sulfur_dioxide</th>\n",
       "      <th>density</th>\n",
       "      <th>pH</th>\n",
       "      <th>sulphates</th>\n",
       "      <th>alcohol</th>\n",
       "      <th>quality</th>\n",
       "    </tr>\n",
       "  </thead>\n",
       "  <tbody>\n",
       "    <tr>\n",
       "      <th>0</th>\n",
       "      <td>7.4</td>\n",
       "      <td>0.70</td>\n",
       "      <td>0.00</td>\n",
       "      <td>1.9</td>\n",
       "      <td>0.08</td>\n",
       "      <td>11.0</td>\n",
       "      <td>34.0</td>\n",
       "      <td>1.0</td>\n",
       "      <td>3.51</td>\n",
       "      <td>0.56</td>\n",
       "      <td>9.4</td>\n",
       "      <td>5</td>\n",
       "    </tr>\n",
       "    <tr>\n",
       "      <th>1</th>\n",
       "      <td>7.8</td>\n",
       "      <td>0.88</td>\n",
       "      <td>0.00</td>\n",
       "      <td>2.6</td>\n",
       "      <td>0.10</td>\n",
       "      <td>25.0</td>\n",
       "      <td>67.0</td>\n",
       "      <td>1.0</td>\n",
       "      <td>3.20</td>\n",
       "      <td>0.68</td>\n",
       "      <td>9.8</td>\n",
       "      <td>5</td>\n",
       "    </tr>\n",
       "    <tr>\n",
       "      <th>2</th>\n",
       "      <td>7.8</td>\n",
       "      <td>0.76</td>\n",
       "      <td>0.04</td>\n",
       "      <td>2.3</td>\n",
       "      <td>0.09</td>\n",
       "      <td>15.0</td>\n",
       "      <td>54.0</td>\n",
       "      <td>1.0</td>\n",
       "      <td>3.26</td>\n",
       "      <td>0.65</td>\n",
       "      <td>9.8</td>\n",
       "      <td>5</td>\n",
       "    </tr>\n",
       "    <tr>\n",
       "      <th>3</th>\n",
       "      <td>11.2</td>\n",
       "      <td>0.28</td>\n",
       "      <td>0.56</td>\n",
       "      <td>1.9</td>\n",
       "      <td>0.08</td>\n",
       "      <td>17.0</td>\n",
       "      <td>60.0</td>\n",
       "      <td>1.0</td>\n",
       "      <td>3.16</td>\n",
       "      <td>0.58</td>\n",
       "      <td>9.8</td>\n",
       "      <td>6</td>\n",
       "    </tr>\n",
       "    <tr>\n",
       "      <th>4</th>\n",
       "      <td>7.4</td>\n",
       "      <td>0.70</td>\n",
       "      <td>0.00</td>\n",
       "      <td>1.9</td>\n",
       "      <td>0.08</td>\n",
       "      <td>11.0</td>\n",
       "      <td>34.0</td>\n",
       "      <td>1.0</td>\n",
       "      <td>3.51</td>\n",
       "      <td>0.56</td>\n",
       "      <td>9.4</td>\n",
       "      <td>5</td>\n",
       "    </tr>\n",
       "  </tbody>\n",
       "</table>\n",
       "</div>"
      ],
      "text/plain": [
       "   fixed_acidity  volatile_acidity  citric_acid  residual_sugar  chlorides  \\\n",
       "0            7.4              0.70         0.00             1.9       0.08   \n",
       "1            7.8              0.88         0.00             2.6       0.10   \n",
       "2            7.8              0.76         0.04             2.3       0.09   \n",
       "3           11.2              0.28         0.56             1.9       0.08   \n",
       "4            7.4              0.70         0.00             1.9       0.08   \n",
       "\n",
       "   free_sulfur_dioxide  total_sulfur_dioxide  density    pH  sulphates  \\\n",
       "0                 11.0                  34.0      1.0  3.51       0.56   \n",
       "1                 25.0                  67.0      1.0  3.20       0.68   \n",
       "2                 15.0                  54.0      1.0  3.26       0.65   \n",
       "3                 17.0                  60.0      1.0  3.16       0.58   \n",
       "4                 11.0                  34.0      1.0  3.51       0.56   \n",
       "\n",
       "   alcohol  quality  \n",
       "0      9.4        5  \n",
       "1      9.8        5  \n",
       "2      9.8        5  \n",
       "3      9.8        6  \n",
       "4      9.4        5  "
      ]
     },
     "execution_count": 3,
     "metadata": {},
     "output_type": "execute_result"
    }
   ],
   "source": [
    "# Lets just check the data to ensure it imported correctly\n",
    "red_wine.head() "
   ]
  },
  {
   "cell_type": "code",
   "execution_count": 4,
   "id": "8729373b",
   "metadata": {},
   "outputs": [
    {
     "data": {
      "text/plain": [
       "(1599, 12)"
      ]
     },
     "execution_count": 4,
     "metadata": {},
     "output_type": "execute_result"
    }
   ],
   "source": [
    "red_wine.shape"
   ]
  },
  {
   "cell_type": "markdown",
   "id": "374d528f",
   "metadata": {},
   "source": [
    "#### As we can see the column quality should be the target label. Thus making the remaining columns the features that we can use to predict our label. This allows us to use a Classification model like Random Forest and ANN (Artificial Neural Networks)\n"
   ]
  },
  {
   "cell_type": "code",
   "execution_count": 5,
   "id": "22797758",
   "metadata": {},
   "outputs": [
    {
     "data": {
      "text/plain": [
       "fixed_acidity           0\n",
       "volatile_acidity        0\n",
       "citric_acid             0\n",
       "residual_sugar          0\n",
       "chlorides               0\n",
       "free_sulfur_dioxide     0\n",
       "total_sulfur_dioxide    0\n",
       "density                 0\n",
       "pH                      0\n",
       "sulphates               0\n",
       "alcohol                 0\n",
       "quality                 0\n",
       "dtype: int64"
      ]
     },
     "execution_count": 5,
     "metadata": {},
     "output_type": "execute_result"
    }
   ],
   "source": [
    "red_wine.isnull().sum()"
   ]
  },
  {
   "cell_type": "markdown",
   "id": "f3f90b63",
   "metadata": {},
   "source": [
    "## There is no missing or null data in the dataset"
   ]
  },
  {
   "cell_type": "code",
   "execution_count": 6,
   "id": "ab667f93",
   "metadata": {},
   "outputs": [
    {
     "name": "stdout",
     "output_type": "stream",
     "text": [
      "<class 'pandas.core.frame.DataFrame'>\n",
      "RangeIndex: 1599 entries, 0 to 1598\n",
      "Data columns (total 12 columns):\n",
      " #   Column                Non-Null Count  Dtype  \n",
      "---  ------                --------------  -----  \n",
      " 0   fixed_acidity         1599 non-null   float64\n",
      " 1   volatile_acidity      1599 non-null   float64\n",
      " 2   citric_acid           1599 non-null   float64\n",
      " 3   residual_sugar        1599 non-null   float64\n",
      " 4   chlorides             1599 non-null   float64\n",
      " 5   free_sulfur_dioxide   1599 non-null   float64\n",
      " 6   total_sulfur_dioxide  1599 non-null   float64\n",
      " 7   density               1599 non-null   float64\n",
      " 8   pH                    1599 non-null   float64\n",
      " 9   sulphates             1599 non-null   float64\n",
      " 10  alcohol               1599 non-null   float64\n",
      " 11  quality               1599 non-null   int64  \n",
      "dtypes: float64(11), int64(1)\n",
      "memory usage: 150.0 KB\n"
     ]
    }
   ],
   "source": [
    "# Check if any of the feature columns are non-numeric\n",
    "red_wine.info()"
   ]
  },
  {
   "cell_type": "markdown",
   "id": "25354c75",
   "metadata": {},
   "source": [
    "### All the features are numeric so we don't need to do any conversions"
   ]
  },
  {
   "cell_type": "code",
   "execution_count": 7,
   "id": "73ded065",
   "metadata": {},
   "outputs": [
    {
     "data": {
      "text/html": [
       "<div>\n",
       "<style scoped>\n",
       "    .dataframe tbody tr th:only-of-type {\n",
       "        vertical-align: middle;\n",
       "    }\n",
       "\n",
       "    .dataframe tbody tr th {\n",
       "        vertical-align: top;\n",
       "    }\n",
       "\n",
       "    .dataframe thead th {\n",
       "        text-align: right;\n",
       "    }\n",
       "</style>\n",
       "<table border=\"1\" class=\"dataframe\">\n",
       "  <thead>\n",
       "    <tr style=\"text-align: right;\">\n",
       "      <th></th>\n",
       "      <th>fixed_acidity</th>\n",
       "      <th>volatile_acidity</th>\n",
       "      <th>citric_acid</th>\n",
       "      <th>residual_sugar</th>\n",
       "      <th>chlorides</th>\n",
       "      <th>free_sulfur_dioxide</th>\n",
       "      <th>total_sulfur_dioxide</th>\n",
       "      <th>density</th>\n",
       "      <th>pH</th>\n",
       "      <th>sulphates</th>\n",
       "      <th>alcohol</th>\n",
       "      <th>quality</th>\n",
       "    </tr>\n",
       "  </thead>\n",
       "  <tbody>\n",
       "    <tr>\n",
       "      <th>count</th>\n",
       "      <td>1599.000000</td>\n",
       "      <td>1599.000000</td>\n",
       "      <td>1599.000000</td>\n",
       "      <td>1599.000000</td>\n",
       "      <td>1599.000000</td>\n",
       "      <td>1599.000000</td>\n",
       "      <td>1599.000000</td>\n",
       "      <td>1599.000000</td>\n",
       "      <td>1599.000000</td>\n",
       "      <td>1599.000000</td>\n",
       "      <td>1599.000000</td>\n",
       "      <td>1599.000000</td>\n",
       "    </tr>\n",
       "    <tr>\n",
       "      <th>mean</th>\n",
       "      <td>8.319637</td>\n",
       "      <td>0.528418</td>\n",
       "      <td>0.270976</td>\n",
       "      <td>2.538806</td>\n",
       "      <td>0.087867</td>\n",
       "      <td>15.874922</td>\n",
       "      <td>46.467792</td>\n",
       "      <td>0.998505</td>\n",
       "      <td>3.311113</td>\n",
       "      <td>0.658149</td>\n",
       "      <td>10.422983</td>\n",
       "      <td>5.636023</td>\n",
       "    </tr>\n",
       "    <tr>\n",
       "      <th>std</th>\n",
       "      <td>1.741096</td>\n",
       "      <td>0.179662</td>\n",
       "      <td>0.194801</td>\n",
       "      <td>1.409928</td>\n",
       "      <td>0.047116</td>\n",
       "      <td>10.460157</td>\n",
       "      <td>32.895324</td>\n",
       "      <td>0.003567</td>\n",
       "      <td>0.154386</td>\n",
       "      <td>0.169507</td>\n",
       "      <td>1.065677</td>\n",
       "      <td>0.807569</td>\n",
       "    </tr>\n",
       "    <tr>\n",
       "      <th>min</th>\n",
       "      <td>4.600000</td>\n",
       "      <td>0.120000</td>\n",
       "      <td>0.000000</td>\n",
       "      <td>0.900000</td>\n",
       "      <td>0.010000</td>\n",
       "      <td>1.000000</td>\n",
       "      <td>6.000000</td>\n",
       "      <td>0.990000</td>\n",
       "      <td>2.740000</td>\n",
       "      <td>0.330000</td>\n",
       "      <td>8.400000</td>\n",
       "      <td>3.000000</td>\n",
       "    </tr>\n",
       "    <tr>\n",
       "      <th>25%</th>\n",
       "      <td>7.100000</td>\n",
       "      <td>0.390000</td>\n",
       "      <td>0.090000</td>\n",
       "      <td>1.900000</td>\n",
       "      <td>0.070000</td>\n",
       "      <td>7.000000</td>\n",
       "      <td>22.000000</td>\n",
       "      <td>1.000000</td>\n",
       "      <td>3.210000</td>\n",
       "      <td>0.550000</td>\n",
       "      <td>9.500000</td>\n",
       "      <td>5.000000</td>\n",
       "    </tr>\n",
       "    <tr>\n",
       "      <th>50%</th>\n",
       "      <td>7.900000</td>\n",
       "      <td>0.520000</td>\n",
       "      <td>0.260000</td>\n",
       "      <td>2.200000</td>\n",
       "      <td>0.080000</td>\n",
       "      <td>14.000000</td>\n",
       "      <td>38.000000</td>\n",
       "      <td>1.000000</td>\n",
       "      <td>3.310000</td>\n",
       "      <td>0.620000</td>\n",
       "      <td>10.200000</td>\n",
       "      <td>6.000000</td>\n",
       "    </tr>\n",
       "    <tr>\n",
       "      <th>75%</th>\n",
       "      <td>9.200000</td>\n",
       "      <td>0.640000</td>\n",
       "      <td>0.420000</td>\n",
       "      <td>2.600000</td>\n",
       "      <td>0.090000</td>\n",
       "      <td>21.000000</td>\n",
       "      <td>62.000000</td>\n",
       "      <td>1.000000</td>\n",
       "      <td>3.400000</td>\n",
       "      <td>0.730000</td>\n",
       "      <td>11.100000</td>\n",
       "      <td>6.000000</td>\n",
       "    </tr>\n",
       "    <tr>\n",
       "      <th>max</th>\n",
       "      <td>15.900000</td>\n",
       "      <td>1.580000</td>\n",
       "      <td>1.000000</td>\n",
       "      <td>15.500000</td>\n",
       "      <td>0.610000</td>\n",
       "      <td>72.000000</td>\n",
       "      <td>289.000000</td>\n",
       "      <td>1.000000</td>\n",
       "      <td>4.010000</td>\n",
       "      <td>2.000000</td>\n",
       "      <td>14.900000</td>\n",
       "      <td>8.000000</td>\n",
       "    </tr>\n",
       "  </tbody>\n",
       "</table>\n",
       "</div>"
      ],
      "text/plain": [
       "       fixed_acidity  volatile_acidity  citric_acid  residual_sugar  \\\n",
       "count    1599.000000       1599.000000  1599.000000     1599.000000   \n",
       "mean        8.319637          0.528418     0.270976        2.538806   \n",
       "std         1.741096          0.179662     0.194801        1.409928   \n",
       "min         4.600000          0.120000     0.000000        0.900000   \n",
       "25%         7.100000          0.390000     0.090000        1.900000   \n",
       "50%         7.900000          0.520000     0.260000        2.200000   \n",
       "75%         9.200000          0.640000     0.420000        2.600000   \n",
       "max        15.900000          1.580000     1.000000       15.500000   \n",
       "\n",
       "         chlorides  free_sulfur_dioxide  total_sulfur_dioxide      density  \\\n",
       "count  1599.000000          1599.000000           1599.000000  1599.000000   \n",
       "mean      0.087867            15.874922             46.467792     0.998505   \n",
       "std       0.047116            10.460157             32.895324     0.003567   \n",
       "min       0.010000             1.000000              6.000000     0.990000   \n",
       "25%       0.070000             7.000000             22.000000     1.000000   \n",
       "50%       0.080000            14.000000             38.000000     1.000000   \n",
       "75%       0.090000            21.000000             62.000000     1.000000   \n",
       "max       0.610000            72.000000            289.000000     1.000000   \n",
       "\n",
       "                pH    sulphates      alcohol      quality  \n",
       "count  1599.000000  1599.000000  1599.000000  1599.000000  \n",
       "mean      3.311113     0.658149    10.422983     5.636023  \n",
       "std       0.154386     0.169507     1.065677     0.807569  \n",
       "min       2.740000     0.330000     8.400000     3.000000  \n",
       "25%       3.210000     0.550000     9.500000     5.000000  \n",
       "50%       3.310000     0.620000    10.200000     6.000000  \n",
       "75%       3.400000     0.730000    11.100000     6.000000  \n",
       "max       4.010000     2.000000    14.900000     8.000000  "
      ]
     },
     "execution_count": 7,
     "metadata": {},
     "output_type": "execute_result"
    }
   ],
   "source": [
    "# Let's check the distribution of the values for each column\n",
    "red_wine.describe()"
   ]
  },
  {
   "cell_type": "markdown",
   "id": "f2c6849c",
   "metadata": {},
   "source": [
    "### There are quite a few values that are out of whack that can throw off our model. Let's clean them up before doing anything else."
   ]
  },
  {
   "cell_type": "code",
   "execution_count": 8,
   "id": "f9385613",
   "metadata": {},
   "outputs": [
    {
     "data": {
      "text/plain": [
       "fixed_acidity            1.132143\n",
       "volatile_acidity         1.198578\n",
       "citric_acid             -0.788998\n",
       "residual_sugar          28.617595\n",
       "chlorides               41.316651\n",
       "free_sulfur_dioxide      2.023562\n",
       "total_sulfur_dioxide     3.809824\n",
       "density                  1.875722\n",
       "pH                       0.806943\n",
       "sulphates               11.720251\n",
       "alcohol                  0.200125\n",
       "dtype: float64"
      ]
     },
     "execution_count": 8,
     "metadata": {},
     "output_type": "execute_result"
    }
   ],
   "source": [
    "# Let's look at the kurtosis of the columns, this is similar to skew. \n",
    "# In kurtosis, the higher the value the more probability of outliers which can throw off your ML classification \n",
    "red_wine.kurt(numeric_only=True)[:11]"
   ]
  },
  {
   "cell_type": "code",
   "execution_count": 9,
   "id": "3ec7c639",
   "metadata": {},
   "outputs": [],
   "source": [
    "# Create X for the Red Wines\n",
    "X = red_wine.drop(\"quality\", axis=1)\n",
    "\n",
    "# Create y (labels)\n",
    "y = red_wine[\"quality\"]"
   ]
  },
  {
   "cell_type": "markdown",
   "id": "50abc211",
   "metadata": {},
   "source": [
    "### Let's check the distribution of the wine scores (quality)"
   ]
  },
  {
   "cell_type": "code",
   "execution_count": 10,
   "id": "21112685",
   "metadata": {},
   "outputs": [
    {
     "data": {
      "text/plain": [
       "5    681\n",
       "6    638\n",
       "7    199\n",
       "4     53\n",
       "8     18\n",
       "3     10\n",
       "Name: quality, dtype: int64"
      ]
     },
     "execution_count": 10,
     "metadata": {},
     "output_type": "execute_result"
    }
   ],
   "source": [
    "y.value_counts()"
   ]
  },
  {
   "cell_type": "markdown",
   "id": "d2cd359a",
   "metadata": {},
   "source": [
    "## As we can see the quality is clustered around 5 & 6. This can cause the ML model to lean towards those by default which may not be ideal. There isn't much we can do about this, the ML model will get better as more data is added in the future."
   ]
  },
  {
   "cell_type": "markdown",
   "id": "d9d41cfa",
   "metadata": {},
   "source": [
    "# Visualization - Let's see if we can spot outliers by plotting the data"
   ]
  },
  {
   "cell_type": "code",
   "execution_count": 11,
   "id": "56690d47",
   "metadata": {},
   "outputs": [
    {
     "data": {
      "text/plain": [
       "<AxesSubplot: >"
      ]
     },
     "execution_count": 11,
     "metadata": {},
     "output_type": "execute_result"
    },
    {
     "data": {
      "image/png": "[encoded data removed]",
      "text/plain": [
       "<Figure size 900x500 with 2 Axes>"
      ]
     },
     "metadata": {},
     "output_type": "display_data"
    }
   ],
   "source": [
    "#Let's start with a heatmap\n",
    "plt.figure(figsize=(9,5))\n",
    "sns.heatmap(red_wine.corr(), annot=True, linewidth=0.5)"
   ]
  },
  {
   "cell_type": "markdown",
   "id": "f3aff864",
   "metadata": {},
   "source": [
    "## Heatmap Analysis\n",
    "\n",
    "## A value near zero means there is no correlation between the column and row. \n",
    "\n",
    "###  fixed_acidity - No correlation with wine quality (No Correlation)\n",
    "###  volatile_acidity - As Acidity goes down, wine quality rises for the most part (Medium Correlation)\n",
    "###  citric_acid - As Citric Acid rises, wine quality rises (Medium Correlation)\n",
    "###  residual_sugar - No real correlation, the level of residual sugar does not seem to impact quality (no Correlation)\n",
    "###  chlorides - As Clorides goes down, wine quality rises (low Correlation)\n",
    "###  free_sulfur_dioxide - No correlation with wine quality (no Correlation) \n",
    "###  total_sulfur_dioxide - As Total Sulfur Dioxide goes down, there is a small correlation with wine quality (low Correlation)\n",
    "###  density - As Density falls, small correlation with wine quality (low Correlation)\n",
    "###  pH - No correlation, wine quality improves (No Correlation)\n",
    "###  sulphates - As Sulphates rise, wine quality rises (Medium Correlation)\n",
    "###  alcohol - As alcohol rises, wine quality rises (High Correlation)\n"
   ]
  },
  {
   "cell_type": "code",
   "execution_count": null,
   "id": "7741d9f4",
   "metadata": {},
   "outputs": [
    {
     "data": {
      "image/png": "[encoded data removed]",
      "text/plain": [
       "<Figure size 1000x1000 with 1 Axes>"
      ]
     },
     "metadata": {},
     "output_type": "display_data"
    },
    {
     "data": {
      "image/png": "[encoded data removed]",
      "text/plain": [
       "<Figure size 1000x1000 with 1 Axes>"
      ]
     },
     "metadata": {},
     "output_type": "display_data"
    },
    {
     "data": {
      "image/png": "[encoded data removed]",
      "text/plain": [
       "<Figure size 1000x1000 with 1 Axes>"
      ]
     },
     "metadata": {},
     "output_type": "display_data"
    }
   ],
   "source": [
    "index=0\n",
    "labels = red_wine['quality']\n",
    "features = red_wine.drop('quality', axis=1)\n",
    "\n",
    "for col in features.items():\n",
    "    plt.figure(figsize=(10,10))\n",
    "    sns.barplot(x=labels, y=col[index], data=red_wine, color=\"royalblue\")\n",
    "#plt.tight_layout()\n",
    "plt.show()"
   ]
  },
  {
   "cell_type": "markdown",
   "id": "10b0199d",
   "metadata": {},
   "source": [
    "## Barplot Analysis\n",
    "\n",
    "###  fixed_acidity - No correlation with wine quality (No Correlation)\n",
    "###  volatile_acidity - As Acidity goes down, wine quality rises for the most part (Medium Correlation)\n",
    "###  citric_acid - As Citric Acid rises, wine quality rises (Medium Correlation)\n",
    "###  residual_sugar - No real correlation, the level of residual sugar does not seem to impact quality (no Correlation)\n",
    "###  chlorides - As Clorides goes down, wine quality rises (High Correlation)\n",
    "###  free_sulfur_dioxide - No correlation with wine quality (No Correlation)\n",
    "###  total_sulfur_dioxide - No correlation with wine quality (No Correlation)\n",
    "###  density - No correlation with wine quality (No Correlation)\n",
    "###  pH - As pH goes down, wine quality improves (Low Correlation)\n",
    "###  sulphates - As Sulphates rise, wine quality rises (High Correlation)\n",
    "###  alcohol - As alcohol rises, wine quality rises for the most part (Medium Correlation)"
   ]
  },
  {
   "cell_type": "code",
   "execution_count": null,
   "id": "3209e5ca",
   "metadata": {
    "scrolled": false
   },
   "outputs": [],
   "source": [
    "for col in X.items():\n",
    "    plt.figure()   # plots figure for each iteration\n",
    "    X.boxplot(column=col[0])"
   ]
  },
  {
   "cell_type": "markdown",
   "id": "cc8bf4bc",
   "metadata": {},
   "source": [
    "## Boxplot Analysis\n",
    "\n",
    "###  fixed_acidity - Many outliers above 12\n",
    "###  volatile_acidity - Everything above 1 is considered an outlier\n",
    "###  citric_acid - A single outlier at 1\n",
    "###  residual_sugar - Everything ~3.5 and above are considered outliers\n",
    "###  chlorides - This has outliers above and below the box plot\n",
    "###  free_sulfur_dioxide - Everything above 42 is an outlier\n",
    "###  total_sulfur_dioxide - A cluster around 120 then some above as well\n",
    "###  density - No outliers\n",
    "###  pH - A few above and a few below the 3.2 - 3.4 box\n",
    "###  sulphates - Everything above 1 is considered an outlier\n",
    "###  alcohol - Everything higher than 13.5 is considered an outlier\n",
    "\n"
   ]
  },
  {
   "cell_type": "code",
   "execution_count": null,
   "id": "334b3d62",
   "metadata": {
    "scrolled": false
   },
   "outputs": [],
   "source": [
    "for col in X.items():\n",
    "    plt.figure()   # plots figure for each iteration    \n",
    "    sns.histplot(X[col[0]])"
   ]
  },
  {
   "cell_type": "markdown",
   "id": "fc5754a8",
   "metadata": {},
   "source": [
    "# Removing Outliers\n",
    "\n",
    "## Using the IQR method, we will remove anything not in the range of (Q1 - 1.5 IQR) and (Q3 + 1.5 IQR) because it is an outlier.\n",
    "\n"
   ]
  },
  {
   "cell_type": "code",
   "execution_count": null,
   "id": "48ddcda1",
   "metadata": {},
   "outputs": [],
   "source": [
    "Q1 = X.quantile(0.25)\n",
    "Q3 = X.quantile(0.75)\n",
    "IQR = Q3 - Q1"
   ]
  },
  {
   "cell_type": "markdown",
   "id": "e15acca1",
   "metadata": {},
   "source": [
    "## Check the skew of the different features. We would like to see the skew values to be between -1.0 and 1.0. Anything higher indicates outliers."
   ]
  },
  {
   "cell_type": "code",
   "execution_count": null,
   "id": "778e520a",
   "metadata": {},
   "outputs": [],
   "source": [
    "red_wine.skew()"
   ]
  },
  {
   "cell_type": "code",
   "execution_count": null,
   "id": "b7e52170",
   "metadata": {},
   "outputs": [],
   "source": [
    "red_wine_out = red_wine[~((red_wine < (Q1 - 1.5 * IQR)) | (red_wine > (Q3 + 1.5 * IQR))).any(axis=1)]\n",
    "print(red_wine_out.shape)"
   ]
  },
  {
   "cell_type": "markdown",
   "id": "5a08d6a8",
   "metadata": {},
   "source": [
    "## This method removed 601 rows or 37.5% of the data. As you will see below, the skew of the features are all within a good range."
   ]
  },
  {
   "cell_type": "code",
   "execution_count": null,
   "id": "61e23951",
   "metadata": {},
   "outputs": [],
   "source": [
    "red_wine_out.skew()"
   ]
  },
  {
   "cell_type": "markdown",
   "id": "984b5600",
   "metadata": {},
   "source": [
    "<hr style=\"border:2px solid blue\">"
   ]
  },
  {
   "cell_type": "markdown",
   "id": "8743596d",
   "metadata": {},
   "source": [
    "# Let's set up the model, we will use Random Forest first"
   ]
  },
  {
   "cell_type": "code",
   "execution_count": null,
   "id": "88be6901",
   "metadata": {},
   "outputs": [],
   "source": [
    "# Checking model Random Forest and choosing hyperparameters\n",
    "from sklearn.ensemble import RandomForestClassifier\n",
    "clf = RandomForestClassifier(random_state=32)"
   ]
  },
  {
   "cell_type": "code",
   "execution_count": null,
   "id": "c6d09ca0",
   "metadata": {},
   "outputs": [],
   "source": [
    "# First time through we will leave the default parameters in place\n",
    "clf.get_params()"
   ]
  },
  {
   "cell_type": "code",
   "execution_count": null,
   "id": "401b61d2",
   "metadata": {},
   "outputs": [],
   "source": [
    "# Fit the model to the training data (this is where the model figures out the patterns)\n",
    "# The model is attempting to figure out the relationship between the features and the labels\n",
    "from sklearn.model_selection import train_test_split\n",
    "\n",
    "X_train, X_test, y_train, y_test = train_test_split(X, y, test_size=0.2, random_state=30)\n"
   ]
  },
  {
   "cell_type": "code",
   "execution_count": null,
   "id": "aa41bf65",
   "metadata": {},
   "outputs": [],
   "source": [
    "clf.fit(X_train, y_train);\n",
    "clf.score(X_train, y_train)"
   ]
  },
  {
   "cell_type": "code",
   "execution_count": null,
   "id": "31bf7b52",
   "metadata": {},
   "outputs": [],
   "source": [
    "print(f'{clf.score(X_test, y_test) * 100}%')"
   ]
  },
  {
   "cell_type": "markdown",
   "id": "b8aa3804",
   "metadata": {},
   "source": [
    "### As you can see, the score for the training model is 100%, this is expected because it has the labels to correct itself. The test score on the other hand is 71% for which tells me we should probably correct the outliers in the data. "
   ]
  },
  {
   "cell_type": "code",
   "execution_count": null,
   "id": "0b4bd3da",
   "metadata": {},
   "outputs": [],
   "source": [
    "y_preds = clf.predict(X_test)\n"
   ]
  },
  {
   "cell_type": "code",
   "execution_count": null,
   "id": "6f28cf60",
   "metadata": {},
   "outputs": [],
   "source": [
    "from sklearn.metrics import classification_report, confusion_matrix, accuracy_score\n",
    "\n",
    "print(classification_report(y_test, y_preds))"
   ]
  },
  {
   "cell_type": "code",
   "execution_count": null,
   "id": "d0d949ac",
   "metadata": {},
   "outputs": [],
   "source": [
    "print(confusion_matrix(y_test, y_preds))"
   ]
  },
  {
   "cell_type": "code",
   "execution_count": null,
   "id": "cae1f2f9",
   "metadata": {},
   "outputs": [],
   "source": []
  },
  {
   "cell_type": "markdown",
   "id": "72ae00a7",
   "metadata": {},
   "source": [
    "## Now let's try the model again with the cleaned data "
   ]
  },
  {
   "cell_type": "code",
   "execution_count": null,
   "id": "3c3c1e59",
   "metadata": {},
   "outputs": [],
   "source": [
    "clf_out = RandomForestClassifier(random_state=32)\n",
    "\n",
    "# Create X for the Red Wines\n",
    "X_out = red_wine_out.drop(\"quality\", axis=1)\n",
    "\n",
    "# Create y (labels)\n",
    "y_out = red_wine_out[\"quality\"]"
   ]
  },
  {
   "cell_type": "code",
   "execution_count": null,
   "id": "71dfd0c1",
   "metadata": {},
   "outputs": [],
   "source": [
    "# Fit the model to the training data (this is where the model figures out the patterns)\n",
    "# The model is attempting to figure out the relationship between the features and the labels\n",
    "X_out_train, X_out_test, y_out_train, y_out_test = train_test_split(X_out, y_out, test_size=0.2, random_state=68)"
   ]
  },
  {
   "cell_type": "code",
   "execution_count": null,
   "id": "9790411f",
   "metadata": {},
   "outputs": [],
   "source": [
    "clf_out.fit(X_out_train, y_out_train);\n",
    "clf_out.score(X_out_train, y_out_train)"
   ]
  },
  {
   "cell_type": "code",
   "execution_count": null,
   "id": "248e5558",
   "metadata": {},
   "outputs": [],
   "source": [
    "print(f'{clf_out.score(X_out_test, y_out_test) * 100}%')"
   ]
  },
  {
   "cell_type": "markdown",
   "id": "41858b3b",
   "metadata": {},
   "source": [
    "### Cleaning the data didn't help with the classification, it made it a bit worse. "
   ]
  },
  {
   "cell_type": "markdown",
   "id": "5c88335e",
   "metadata": {},
   "source": [
    "## Let's try changing the hyperparameters on the original data. We will try different values of n_estimator"
   ]
  },
  {
   "cell_type": "code",
   "execution_count": null,
   "id": "fc6c3810",
   "metadata": {},
   "outputs": [],
   "source": [
    "np.random.seed(28)\n",
    "for i in range(10,100,10):\n",
    "    print(f'Setting n_estimator to {i} and testing model')\n",
    "    test_model = RandomForestClassifier(n_estimators=i, random_state=32).fit(X_train, y_train)\n",
    "    print(f'Model accuracy with this n_estimator - {test_model.score(X_test, y_test)* 100}%\\n')"
   ]
  },
  {
   "cell_type": "markdown",
   "id": "9725532e",
   "metadata": {},
   "source": [
    "## It looks like n_estimator '40' gives the best results. We will now move on to the ACC model"
   ]
  },
  {
   "cell_type": "code",
   "execution_count": null,
   "id": "b14e98ff",
   "metadata": {},
   "outputs": [],
   "source": [
    "from sklearn.neural_network import MLPClassifier\n",
    "\n",
    "clf_acc = MLPClassifier(random_state=32)"
   ]
  },
  {
   "cell_type": "code",
   "execution_count": null,
   "id": "10626506",
   "metadata": {},
   "outputs": [],
   "source": [
    "# Create X for the Red Wines\n",
    "X_acc = red_wine.drop(\"quality\", axis=1)\n",
    "\n",
    "# Create y (labels)\n",
    "y_acc = red_wine[\"quality\"]"
   ]
  },
  {
   "cell_type": "code",
   "execution_count": null,
   "id": "ec0f4302",
   "metadata": {},
   "outputs": [],
   "source": [
    "X_acc_train, X_acc_test, y_acc_train, y_acc_test = train_test_split(X_acc, y_acc, test_size=0.2, random_state=32)"
   ]
  },
  {
   "cell_type": "code",
   "execution_count": null,
   "id": "216d4a3a",
   "metadata": {},
   "outputs": [],
   "source": [
    "clf_acc.fit(X_acc_train, y_acc_train)                                                                    \n",
    "clf_acc.score(X_acc_train, y_acc_train)\n",
    "                                                                    "
   ]
  },
  {
   "cell_type": "markdown",
   "id": "45010b8e",
   "metadata": {},
   "source": [
    "## That was really low, I want to try one more I have had success with before which is the Support Vector Classifier"
   ]
  },
  {
   "cell_type": "code",
   "execution_count": null,
   "id": "3cbb004b",
   "metadata": {},
   "outputs": [],
   "source": [
    "from sklearn.svm import SVC\n",
    "clf_svc = SVC(random_state=32)"
   ]
  },
  {
   "cell_type": "code",
   "execution_count": null,
   "id": "f7a017e2",
   "metadata": {},
   "outputs": [],
   "source": [
    "# Create X for the Red Wines\n",
    "X_svc = red_wine.drop(\"quality\", axis=1)\n",
    "\n",
    "# Create y (labels)\n",
    "y_svc = red_wine[\"quality\"]"
   ]
  },
  {
   "cell_type": "code",
   "execution_count": null,
   "id": "a7abc140",
   "metadata": {},
   "outputs": [],
   "source": [
    "X_svc_train, X_svc_test, y_svc_train, y_svc_test = train_test_split(X_svc, y_svc, test_size=0.2, random_state=32)"
   ]
  },
  {
   "cell_type": "code",
   "execution_count": null,
   "id": "200da1b5",
   "metadata": {},
   "outputs": [],
   "source": [
    "clf_svc.fit(X_svc_train, y_svc_train)                                                                    \n",
    "clf_svc.score(X_svc_train, y_svc_train)"
   ]
  },
  {
   "cell_type": "markdown",
   "id": "6b71bd3d",
   "metadata": {},
   "source": [
    "## That was even worse, barely better than a coin toss. \n",
    "\n",
    "## The final model that we will use is the Random Forest with a n_estimator of '40'"
   ]
  },
  {
   "cell_type": "code",
   "execution_count": null,
   "id": "0c391de5",
   "metadata": {},
   "outputs": [],
   "source": [
    "test_model = RandomForestClassifier(n_estimators=40, random_state=32).fit(X_train, y_train)"
   ]
  },
  {
   "cell_type": "code",
   "execution_count": null,
   "id": "51356da2",
   "metadata": {},
   "outputs": [],
   "source": [
    "import pickle\n",
    "\n",
    "# Save our model to file\n",
    "pickle.dump(test_model, open(\"random_forest_model_1.pkl\", \"wb\"))"
   ]
  },
  {
   "cell_type": "code",
   "execution_count": null,
   "id": "a6643fe0",
   "metadata": {},
   "outputs": [],
   "source": [
    "# Make sure we can use the model again\n",
    "loaded_model = pickle.load(open(\"random_forest_model_1.pkl\", \"rb\"))\n",
    "loaded_model.score(X_test, y_test)"
   ]
  },
  {
   "cell_type": "markdown",
   "id": "745d2d91",
   "metadata": {},
   "source": [
    "## Verified that this is the same score as previously.\n",
    "\n",
    "\n",
    "## The Modeling section is complete, and below we will create a test form that will use our model to make predictions based upon entered data\n"
   ]
  },
  {
   "cell_type": "markdown",
   "id": "9ea6e773",
   "metadata": {},
   "source": [
    "<br><br><br>"
   ]
  },
  {
   "cell_type": "markdown",
   "id": "80c339a3",
   "metadata": {},
   "source": [
    "<hr style=\"border:5px solid blue\">"
   ]
  },
  {
   "cell_type": "markdown",
   "id": "3ef47359",
   "metadata": {},
   "source": [
    "# Everything Below is for our application page"
   ]
  },
  {
   "cell_type": "markdown",
   "id": "75ad9772",
   "metadata": {},
   "source": [
    "<hr style=\"border:5px solid blue\">"
   ]
  },
  {
   "cell_type": "markdown",
   "id": "331a0dcf",
   "metadata": {},
   "source": [
    "## Display an Image of red grapes"
   ]
  },
  {
   "cell_type": "code",
   "execution_count": null,
   "id": "9e1726f2",
   "metadata": {},
   "outputs": [],
   "source": [
    "file = open(\"images/grapes.jpeg\", \"rb\")\n",
    "image = file.read()\n",
    "\n",
    "image_headline = widgets.Image(value=image, format='jpeg', width='300')\n",
    "\n",
    "label_headline = widgets.Label(value='Red Grapes', style={'description_width': 'initial'})\n",
    "\n",
    "vbox_headline = widgets.VBox([image_headline, label_headline])"
   ]
  },
  {
   "cell_type": "markdown",
   "id": "f9a40335",
   "metadata": {},
   "source": [
    "## The settings below apply to the Float Slider Widgets. This allows their whole label to fit and for all to be the same size"
   ]
  },
  {
   "cell_type": "code",
   "execution_count": null,
   "id": "4f2d0ddb",
   "metadata": {},
   "outputs": [],
   "source": [
    "# Setup the label width to fit whatever is in the description\n",
    "style = {'description_width': 'initial'}\n",
    "\n",
    "# Setup the width of the entire widget\n",
    "layout = {'width': '400px'}"
   ]
  },
  {
   "cell_type": "markdown",
   "id": "12042bbc",
   "metadata": {},
   "source": [
    "# Below we are creating 11 float slider widgets, these allow us to set the min and max values, we are using sliders to allow a visual way to change values and see how it improves or decreases the wines rating. The default value is set to the highest Quality rated Red Wine (an 8). This allows the user to change the values and see the quality change as well. "
   ]
  },
  {
   "cell_type": "code",
   "execution_count": null,
   "id": "f5827a55",
   "metadata": {},
   "outputs": [],
   "source": [
    "fixed_acidity = widgets.FloatSlider(\n",
    "    style=style,\n",
    "    layout=layout,\n",
    "    value=12.6,\n",
    "    min=4.5,\n",
    "    max=16.0,\n",
    "    step=0.1,\n",
    "    description='Fixed Acidity:',\n",
    "    disabled=False,\n",
    "    continuous_update=False,\n",
    "    orientation='horizontal',\n",
    "    readout=True,\n",
    "    readout_format='.1f',\n",
    ")\n",
    "\n",
    "volatile_acidity = widgets.FloatSlider(\n",
    "    style=style,\n",
    "    layout=layout,\n",
    "    value=0.31,\n",
    "    min=0.1,\n",
    "    max=1.6,\n",
    "    step=0.01,\n",
    "    description='Volatile Acidity:',\n",
    "    disabled=False,\n",
    "    continuous_update=False,\n",
    "    orientation='horizontal',\n",
    "    readout=True,\n",
    "    readout_format='.2f',\n",
    ")\n",
    "\n",
    "\n",
    "citric_acid = widgets.FloatSlider(\n",
    "    style=style,\n",
    "    layout=layout,\n",
    "    value=0.72,\n",
    "    min=0.00,\n",
    "    max=1.00,\n",
    "    step=0.01,\n",
    "    description='Citric Acid:',\n",
    "    disabled=False,\n",
    "    continuous_update=False,\n",
    "    orientation='horizontal',\n",
    "    readout=True,\n",
    "    readout_format='.2f',\n",
    ")\n",
    "\n",
    "residual_sugar = widgets.FloatSlider(\n",
    "    style=style,\n",
    "    layout=layout,\n",
    "    value=2.2,\n",
    "    min=.5,\n",
    "    max=16.0,\n",
    "    step=0.1,\n",
    "    description='Residual Sugar:',\n",
    "    disabled=False,\n",
    "    continuous_update=False,\n",
    "    orientation='horizontal',\n",
    "    readout=True,\n",
    "    readout_format='.1f',\n",
    ")\n",
    "\n",
    "chlorides = widgets.FloatSlider(\n",
    "    style=style,\n",
    "    layout=layout,\n",
    "    value=0.07,\n",
    "    min=0.,\n",
    "    max=0.70,\n",
    "    step=0.01,\n",
    "    description='Chlorides:',\n",
    "    disabled=False,\n",
    "    continuous_update=False,\n",
    "    orientation='horizontal',\n",
    "    readout=True,\n",
    "    readout_format='.2f',\n",
    ")\n",
    "\n",
    "free_sulfur_dioxide = widgets.FloatSlider(\n",
    "    style=style,\n",
    "    layout=layout,\n",
    "    value=6.0,\n",
    "    min=1.0,\n",
    "    max=75.0,\n",
    "    step=1,\n",
    "    description='Free Sulfur Dioxide:',\n",
    "    disabled=False,\n",
    "    continuous_update=False,\n",
    "    orientation='horizontal',\n",
    "    readout=True,\n",
    "    readout_format='.1f',\n",
    ")\n",
    "\n",
    "total_sulfur_dioxide = widgets.FloatSlider(\n",
    "    style=style,\n",
    "    layout=layout,\n",
    "    value=29.,\n",
    "    min=1.,\n",
    "    max=300.,\n",
    "    step=1.,\n",
    "    description='Total Sulfur Dioxide:',\n",
    "    disabled=False,\n",
    "    continuous_update=False,\n",
    "    orientation='horizontal',\n",
    "    readout=True,\n",
    "    readout_format='.1f',\n",
    ")\n",
    "\n",
    "density = widgets.FloatSlider(\n",
    "    style=style,\n",
    "    layout=layout,\n",
    "    value=1.,\n",
    "    min=.99,\n",
    "    max=1.0,\n",
    "    step=0.01,\n",
    "    description='Density:',\n",
    "    disabled=False,\n",
    "    continuous_update=False,\n",
    "    orientation='horizontal',\n",
    "    readout=True,\n",
    "    readout_format='.2f',\n",
    ")\n",
    "\n",
    "pH = widgets.FloatSlider(\n",
    "    style=style,\n",
    "    layout=layout,\n",
    "    value=2.88,\n",
    "    min=2.5,\n",
    "    max=4.1,\n",
    "    step=0.01,\n",
    "    description='pH:',\n",
    "    disabled=False,\n",
    "    continuous_update=False,\n",
    "    orientation='horizontal',\n",
    "    readout=True,\n",
    "    readout_format='.2f',\n",
    ")\n",
    "\n",
    "sulphates = widgets.FloatSlider(\n",
    "    style=style,\n",
    "    layout=layout,\n",
    "    value=0.82,\n",
    "    min=0.3,\n",
    "    max=2.0,\n",
    "    step=0.01,\n",
    "    description='Sulphates:',\n",
    "    disabled=False,\n",
    "    continuous_update=False,\n",
    "    orientation='horizontal',\n",
    "    readout=True,\n",
    "    readout_format='.2f',\n",
    ")\n",
    "\n",
    "alcohol = widgets.FloatSlider(\n",
    "    style=style,\n",
    "    layout=layout,\n",
    "    value=9.8,\n",
    "    min=8.,\n",
    "    max=15.0,\n",
    "    step=0.1,\n",
    "    description='Alcohol:',\n",
    "    disabled=False,\n",
    "    continuous_update=False,\n",
    "    orientation='horizontal',\n",
    "    readout=True,\n",
    "    readout_format='.1f',\n",
    ")"
   ]
  },
  {
   "cell_type": "markdown",
   "id": "2abdfcbb",
   "metadata": {},
   "source": [
    "# This button will gather the values from the slider and run it against the red model and return a prediction on the wine's quality"
   ]
  },
  {
   "cell_type": "code",
   "execution_count": null,
   "id": "7d1512d7",
   "metadata": {},
   "outputs": [],
   "source": [
    "button_send = widgets.Button(description='Calculate Wine Rating', tooltip='Calculate Wine Rating', style=style, layout=layout)\n",
    "\n",
    "output = widgets.Output()\n",
    "\n",
    "def on_button_clicked(event):\n",
    "    with output:\n",
    "        clear_output()\n",
    "        df = pd.DataFrame([np.array([fixed_acidity.value, volatile_acidity.value, citric_acid.value, residual_sugar.value, chlorides.value, free_sulfur_dioxide.value, total_sulfur_dioxide.value, density.value, pH.value, sulphates.value, alcohol.value])], columns = ['fixed_acidity', 'volatile_acidity', 'citric_acid', 'residual_sugar', 'chlorides', 'free_sulfur_dioxide', 'total_sulfur_dioxide', 'density', 'pH', 'sulphates', 'alcohol'])\n",
    "        print(f\"This Red Wine with the values of:\")\n",
    "        print(f\"Fixed Acidity: {fixed_acidity.value}, Volatile Acidity: {volatile_acidity.value}\")\n",
    "        print(f\"Citric Acid: {citric_acid.value}, Residual Sugar: {residual_sugar.value}, Chlorides: {chlorides.value}\")\n",
    "        print(f\"Free Sulfur Dioxide: {free_sulfur_dioxide.value}, Total Sulfur Dioxide: {total_sulfur_dioxide.value}\") \n",
    "        print(f\"Density: {density.value}, pH: {pH.value}, Sulphates: {sulphates.value}, Alcohol: {alcohol.value}\")\n",
    "        print(\"Has a predicted rating of:\")\n",
    "        prediction =  test_model.predict(df)\n",
    "        display(Markdown('# {}'.format(prediction)))\n",
    "\n",
    "button_send.on_click(on_button_clicked)\n",
    "\n",
    "vbox_result = widgets.VBox([button_send, output])"
   ]
  },
  {
   "cell_type": "markdown",
   "id": "81649154",
   "metadata": {},
   "source": [
    "## Display the page we have designed "
   ]
  },
  {
   "cell_type": "code",
   "execution_count": null,
   "id": "946e4645",
   "metadata": {},
   "outputs": [],
   "source": [
    "vbox_text = widgets.VBox([fixed_acidity, volatile_acidity, citric_acid, residual_sugar, chlorides, free_sulfur_dioxide, total_sulfur_dioxide, density, pH, sulphates, alcohol, vbox_result])\n",
    "\n",
    "\n",
    "page = widgets.HBox([vbox_headline, vbox_text])\n",
    "display(page)"
   ]
  },
  {
   "cell_type": "code",
   "execution_count": null,
   "id": "5a20dbcd",
   "metadata": {},
   "outputs": [],
   "source": []
  }
 ],
 "metadata": {
  "kernelspec": {
   "display_name": "Python 3 (ipykernel)",
   "language": "python",
   "name": "python3"
  },
  "language_info": {
   "codemirror_mode": {
    "name": "ipython",
    "version": 3
   },
   "file_extension": ".py",
   "mimetype": "text/x-python",
   "name": "python",
   "nbconvert_exporter": "python",
   "pygments_lexer": "ipython3",
   "version": "3.10.8"
  }
 },
 "nbformat": 4,
 "nbformat_minor": 5
}
